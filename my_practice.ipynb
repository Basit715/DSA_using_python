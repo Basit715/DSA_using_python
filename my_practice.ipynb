{
 "cells": [
  {
   "cell_type": "markdown",
   "metadata": {},
   "source": [
    "# SinglylinkedList"
   ]
  },
  {
   "cell_type": "code",
   "execution_count": null,
   "metadata": {},
   "outputs": [],
   "source": [
    "class Node:\n",
    "     def __init__(self,data=None,next = None):\n",
    "          self.data = data\n",
    "          self.next = next\n",
    "          \n",
    "class SLL:\n",
    "     def __init__(self,start = None):\n",
    "          self.start = start\n",
    "     def is_empty(self):\n",
    "          return self.start == None\n",
    "     def insert_at_start(self,data):\n",
    "          n = Node(data,self.start)\n",
    "          self.start = n\n",
    "     def insert_at_last(self,data):\n",
    "          n = Node(data)\n",
    "          if not self.is_empty():\n",
    "               temp = self.start\n",
    "               while temp.next is not None:\n",
    "                    temp = temp.next\n",
    "               temp.next = n\n",
    "          else:\n",
    "               self.start = n\n",
    "     def search(self,search_item):\n",
    "          temp = self.start\n",
    "          while temp.next is not None:\n",
    "               if temp.data == search_item:\n",
    "                    return temp\n",
    "               temp = temp.next\n",
    "          return None\n",
    "     def insert_after(self,temp,data):\n",
    "         if temp is not None:\n",
    "              n = Node(data,temp.next)\n",
    "              temp.next = n\n",
    "     def printlist(self):\n",
    "          temp = self.start\n",
    "          while temp is not None:\n",
    "               print(temp.data, end= ' ')\n",
    "               temp = temp.next\n",
    "     def delete_first(self):\n",
    "          if self.start is not None:\n",
    "               self.start = self.start.next\n",
    "     def delete_last(self):\n",
    "          if self.start is None:\n",
    "               pass\n",
    "          elif self.start.next is None:\n",
    "               self.start = None\n",
    "          else:\n",
    "               temp = self.start\n",
    "               while temp.next.next is not None:\n",
    "                    temp = temp.next\n",
    "               temp.next = None\n",
    "     def delete_item(self,item):\n",
    "          if self.start == None:\n",
    "               pass\n",
    "          elif self.start.next is None:\n",
    "               if self.start.data == item:\n",
    "                    self.start = None\n",
    "          else:\n",
    "               temp = self.start\n",
    "               while temp.next is not None:\n",
    "                    if temp.next.data == item:\n",
    "                         temp.next = temp.next.next\n",
    "                         break\n",
    "                    temp = temp.next\n",
    "                    \n",
    "                    \n",
    "                    \n",
    "               \n",
    "               \n",
    "               \n",
    "          \n",
    "     "
   ]
  },
  {
   "cell_type": "code",
   "execution_count": 3,
   "metadata": {},
   "outputs": [],
   "source": [
    "my_list = SLL()"
   ]
  },
  {
   "cell_type": "code",
   "execution_count": 4,
   "metadata": {},
   "outputs": [],
   "source": [
    "my_list.insert_at_start(20)\n",
    "my_list.insert_at_last(34)\n",
    "my_list.insert_at_start(21)"
   ]
  },
  {
   "cell_type": "code",
   "execution_count": 5,
   "metadata": {},
   "outputs": [
    {
     "name": "stdout",
     "output_type": "stream",
     "text": [
      "21 20 "
     ]
    }
   ],
   "source": [
    "my_list.printlist()"
   ]
  },
  {
   "cell_type": "code",
   "execution_count": 10,
   "metadata": {},
   "outputs": [],
   "source": [
    "my_list.insert_at_last(42)"
   ]
  },
  {
   "cell_type": "code",
   "execution_count": 11,
   "metadata": {},
   "outputs": [
    {
     "name": "stdout",
     "output_type": "stream",
     "text": [
      "21 20 34 42 "
     ]
    }
   ],
   "source": [
    "my_list.printlist()"
   ]
  },
  {
   "cell_type": "code",
   "execution_count": 12,
   "metadata": {},
   "outputs": [],
   "source": [
    "my_list.delete_last()"
   ]
  },
  {
   "cell_type": "code",
   "execution_count": 13,
   "metadata": {},
   "outputs": [
    {
     "name": "stdout",
     "output_type": "stream",
     "text": [
      "21 20 34 "
     ]
    }
   ],
   "source": [
    "my_list.printlist()"
   ]
  },
  {
   "cell_type": "code",
   "execution_count": 14,
   "metadata": {},
   "outputs": [],
   "source": [
    "my_list.delete_item(34)"
   ]
  },
  {
   "cell_type": "code",
   "execution_count": 15,
   "metadata": {},
   "outputs": [
    {
     "name": "stdout",
     "output_type": "stream",
     "text": [
      "21 20 "
     ]
    }
   ],
   "source": [
    "my_list.printlist()"
   ]
  }
 ],
 "metadata": {
  "kernelspec": {
   "display_name": "base",
   "language": "python",
   "name": "python3"
  },
  "language_info": {
   "codemirror_mode": {
    "name": "ipython",
    "version": 3
   },
   "file_extension": ".py",
   "mimetype": "text/x-python",
   "name": "python",
   "nbconvert_exporter": "python",
   "pygments_lexer": "ipython3",
   "version": "3.10.9"
  }
 },
 "nbformat": 4,
 "nbformat_minor": 2
}
