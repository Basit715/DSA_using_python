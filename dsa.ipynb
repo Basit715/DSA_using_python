{
 "cells": [
  {
   "cell_type": "markdown",
   "metadata": {},
   "source": [
    "# Arrays and List"
   ]
  },
  {
   "cell_type": "code",
   "execution_count": 2,
   "metadata": {},
   "outputs": [],
   "source": [
    "from array import *"
   ]
  },
  {
   "cell_type": "markdown",
   "metadata": {},
   "source": [
    "# type codes for array\n",
    "1.'b' --> signed integer\n",
    "2. 'B' --> unsigned integer\n",
    "3. 'u'--> unicode character\n",
    "4. 'h'-->signed integer\n",
    "5. 'H' --> unsigned integer\n",
    "6. 'i'-->signed integer\n",
    "7. 'I'-->unsigned integer\n",
    "8. 'l'-->signed integer\n",
    "9. 'L'-->unsigned integer\n",
    "10. 'q'-->signed integer\n",
    "11. 'Q'-->unsigned integer\n",
    "12 'f'--> floating point\n",
    "13 'd'-->decimal point"
   ]
  },
  {
   "cell_type": "code",
   "execution_count": 3,
   "metadata": {},
   "outputs": [],
   "source": [
    "a1 = array('i', [23,56,43])"
   ]
  },
  {
   "cell_type": "code",
   "execution_count": 4,
   "metadata": {},
   "outputs": [
    {
     "name": "stdout",
     "output_type": "stream",
     "text": [
      "<class 'array.array'>\n"
     ]
    }
   ],
   "source": [
    "print(type(a1))"
   ]
  },
  {
   "cell_type": "code",
   "execution_count": 8,
   "metadata": {},
   "outputs": [
    {
     "name": "stdout",
     "output_type": "stream",
     "text": [
      "23\n",
      "56\n",
      "43\n"
     ]
    }
   ],
   "source": [
    "for i in a1:\n",
    "     print(i)"
   ]
  },
  {
   "cell_type": "code",
   "execution_count": 9,
   "metadata": {},
   "outputs": [
    {
     "name": "stdout",
     "output_type": "stream",
     "text": [
      "3\n"
     ]
    }
   ],
   "source": [
    "print(len(a1))"
   ]
  },
  {
   "cell_type": "code",
   "execution_count": 10,
   "metadata": {},
   "outputs": [
    {
     "name": "stdout",
     "output_type": "stream",
     "text": [
      "23 56 43 "
     ]
    }
   ],
   "source": [
    "for i in range(len(a1)):\n",
    "     print(a1[i], end=' ')"
   ]
  },
  {
   "cell_type": "markdown",
   "metadata": {},
   "source": [
    "# array methods"
   ]
  },
  {
   "cell_type": "code",
   "execution_count": 12,
   "metadata": {},
   "outputs": [
    {
     "name": "stdout",
     "output_type": "stream",
     "text": [
      "array('i', [23, 56, 43, 42, 42])\n"
     ]
    }
   ],
   "source": [
    "# append: appends the given value at the end of array\n",
    "a1.append(42)\n",
    "print(a1)\n"
   ]
  },
  {
   "cell_type": "code",
   "execution_count": 13,
   "metadata": {},
   "outputs": [
    {
     "data": {
      "text/plain": [
       "2"
      ]
     },
     "execution_count": 13,
     "metadata": {},
     "output_type": "execute_result"
    }
   ],
   "source": [
    "#count: gives the occurence of given value\n",
    "a1.count(42)"
   ]
  },
  {
   "cell_type": "code",
   "execution_count": 14,
   "metadata": {},
   "outputs": [],
   "source": [
    "#extend() \n",
    "a1.extend([1,2,3,4])"
   ]
  },
  {
   "cell_type": "code",
   "execution_count": 15,
   "metadata": {},
   "outputs": [
    {
     "name": "stdout",
     "output_type": "stream",
     "text": [
      "array('i', [23, 56, 43, 42, 42, 1, 2, 3, 4])\n"
     ]
    }
   ],
   "source": [
    "print(a1)"
   ]
  },
  {
   "cell_type": "code",
   "execution_count": 16,
   "metadata": {},
   "outputs": [],
   "source": [
    "#fromlist()\n",
    "lst = [100,101,102]\n",
    "a1.fromlist(lst)"
   ]
  },
  {
   "cell_type": "code",
   "execution_count": 17,
   "metadata": {},
   "outputs": [
    {
     "name": "stdout",
     "output_type": "stream",
     "text": [
      "array('i', [23, 56, 43, 42, 42, 1, 2, 3, 4, 100, 101, 102])\n"
     ]
    }
   ],
   "source": [
    "print(a1)"
   ]
  },
  {
   "cell_type": "code",
   "execution_count": 18,
   "metadata": {},
   "outputs": [
    {
     "data": {
      "text/plain": [
       "0"
      ]
     },
     "execution_count": 18,
     "metadata": {},
     "output_type": "execute_result"
    }
   ],
   "source": [
    "#index(): gives the first occurence of specified value\n",
    "\n",
    "a1.index(23)"
   ]
  },
  {
   "cell_type": "code",
   "execution_count": 19,
   "metadata": {},
   "outputs": [],
   "source": [
    "#insert() : inserts the given value at specified index\n",
    "a1.insert(1,1000)"
   ]
  },
  {
   "cell_type": "code",
   "execution_count": 20,
   "metadata": {},
   "outputs": [
    {
     "name": "stdout",
     "output_type": "stream",
     "text": [
      "array('i', [23, 1000, 56, 43, 42, 42, 1, 2, 3, 4, 100, 101, 102])\n"
     ]
    }
   ],
   "source": [
    "print(a1)"
   ]
  },
  {
   "cell_type": "code",
   "execution_count": null,
   "metadata": {},
   "outputs": [
    {
     "data": {
      "text/plain": [
       "102"
      ]
     },
     "execution_count": 22,
     "metadata": {},
     "output_type": "execute_result"
    }
   ],
   "source": [
    "#pop removes the elements and specifies the popped element\n",
    "a1.pop()"
   ]
  },
  {
   "cell_type": "code",
   "execution_count": 23,
   "metadata": {},
   "outputs": [
    {
     "name": "stdout",
     "output_type": "stream",
     "text": [
      "array('i', [23, 1000, 56, 43, 42, 42, 1, 2, 3, 4, 100, 101])\n"
     ]
    }
   ],
   "source": [
    "print(a1)"
   ]
  },
  {
   "cell_type": "code",
   "execution_count": 24,
   "metadata": {},
   "outputs": [],
   "source": [
    "# remove(): specifies the index of removed element\n",
    "a1.remove(42)"
   ]
  },
  {
   "cell_type": "code",
   "execution_count": 25,
   "metadata": {},
   "outputs": [
    {
     "name": "stdout",
     "output_type": "stream",
     "text": [
      "array('i', [23, 1000, 56, 43, 42, 1, 2, 3, 4, 100, 101])\n"
     ]
    }
   ],
   "source": [
    "print(a1)"
   ]
  },
  {
   "cell_type": "code",
   "execution_count": 26,
   "metadata": {},
   "outputs": [],
   "source": [
    "# reverse(): reverses the array\n",
    "a1.reverse()"
   ]
  },
  {
   "cell_type": "code",
   "execution_count": 27,
   "metadata": {},
   "outputs": [
    {
     "name": "stdout",
     "output_type": "stream",
     "text": [
      "array('i', [101, 100, 4, 3, 2, 1, 42, 43, 56, 1000, 23])\n"
     ]
    }
   ],
   "source": [
    "print(a1)"
   ]
  },
  {
   "cell_type": "code",
   "execution_count": 28,
   "metadata": {},
   "outputs": [
    {
     "data": {
      "text/plain": [
       "[101, 100, 4, 3, 2, 1, 42, 43, 56, 1000, 23]"
      ]
     },
     "execution_count": 28,
     "metadata": {},
     "output_type": "execute_result"
    }
   ],
   "source": [
    "#tolist(): converts the array to list\n",
    "a1.tolist()"
   ]
  },
  {
   "cell_type": "markdown",
   "metadata": {},
   "source": [
    "# List"
   ]
  },
  {
   "cell_type": "code",
   "execution_count": 30,
   "metadata": {},
   "outputs": [],
   "source": [
    "lst = list([1,2,3,4])"
   ]
  },
  {
   "cell_type": "code",
   "execution_count": 31,
   "metadata": {},
   "outputs": [
    {
     "data": {
      "text/plain": [
       "[1, 2, 3, 4]"
      ]
     },
     "execution_count": 31,
     "metadata": {},
     "output_type": "execute_result"
    }
   ],
   "source": [
    "lst"
   ]
  },
  {
   "cell_type": "markdown",
   "metadata": {},
   "source": [
    "# Classe and Objects"
   ]
  },
  {
   "cell_type": "code",
   "execution_count": 32,
   "metadata": {},
   "outputs": [
    {
     "name": "stdout",
     "output_type": "stream",
     "text": [
      "Constructor called automatically as object is created\n"
     ]
    }
   ],
   "source": [
    "class Test:\n",
    "     def __init__(self):\n",
    "          print('Constructor called automatically as object is created')\n",
    "          \n",
    "t1 = Test()"
   ]
  },
  {
   "cell_type": "markdown",
   "metadata": {},
   "source": [
    "# Singly Linked List"
   ]
  },
  {
   "cell_type": "code",
   "execution_count": 49,
   "metadata": {},
   "outputs": [],
   "source": [
    "class Node:\n",
    "     def __init__(self,item = None, next = None):\n",
    "          self.item = item\n",
    "          self.next = next\n",
    "          \n",
    "class SLL:\n",
    "     def __init__(self,start = None):\n",
    "          self.start = start\n",
    "          \n",
    "     def is_empty(self):\n",
    "          if self.start == None:\n",
    "               return self.start == None\n",
    "     def insert_at_start(self,data):\n",
    "          n = Node(data,self.start)\n",
    "          self.start = n\n",
    "     def insert_at_last(self,data):\n",
    "          n = Node(data)\n",
    "          if not self.is_empty():\n",
    "               temp = self.start\n",
    "               while temp.next is not None:\n",
    "                    temp = temp.next\n",
    "               temp.next = n\n",
    "          else:\n",
    "               self.start = n\n",
    "     def search(self,search_item):\n",
    "          temp = self.start\n",
    "          while temp is not None:\n",
    "               if temp.item == search_item:\n",
    "                    return temp\n",
    "               temp = temp.next\n",
    "          return None\n",
    "     \n",
    "     def insert_after(self,temp,data):\n",
    "          if temp is not None:\n",
    "               n = Node(data,temp.next)\n",
    "               temp.next = n\n",
    "     def print_list(self):\n",
    "          temp = self.start\n",
    "          while temp is not None:\n",
    "               print(temp.item, end = ' ')\n",
    "               temp  = temp.next\n",
    "               \n",
    "     def delete_at_first(self):\n",
    "          if self.start is not None:\n",
    "               self.start = self.start.next\n",
    "     def delete_last(self):\n",
    "          if self.start is None:\n",
    "               pass\n",
    "          elif  self.start.next is None:\n",
    "               self.start = None\n",
    "          else:\n",
    "               temp = self.start\n",
    "               while temp.next.next is not None:\n",
    "                    temp = temp.next\n",
    "               temp.next = None\n",
    "     def delete_item(self,data):\n",
    "          if self.start is  None:\n",
    "               pass\n",
    "               \n",
    "          elif self.start.next is None:\n",
    "               if self.start.item == data:\n",
    "                    self.start = None\n",
    "          else:\n",
    "               temp = self.start\n",
    "               if temp.item == data:\n",
    "                    self.start = temp.next\n",
    "               else:\n",
    "                    while temp.next is not None:\n",
    "                         if temp.next.item == data:\n",
    "                              temp.next = temp.next.next\n",
    "                              break\n",
    "                         temp = temp.next\n",
    "                              \n",
    "     def __iter__(self):\n",
    "          return SLLITERABLE(self.start)                    \n",
    "                   \n",
    "\n",
    "class SLLITERABLE:\n",
    "     def __init__(self,start):\n",
    "          self.current = start                   \n",
    "     def __iter__(self):\n",
    "          return self\n",
    "     def __next__(self):\n",
    "          if not self.current:\n",
    "               raise StopIteration\n",
    "          data = self.current.item\n",
    "          self.current = self.current.next\n",
    "          return data\n",
    "        \n",
    "          "
   ]
  },
  {
   "cell_type": "code",
   "execution_count": 50,
   "metadata": {},
   "outputs": [],
   "source": [
    "mylist1 = SLL()"
   ]
  },
  {
   "cell_type": "code",
   "execution_count": 51,
   "metadata": {},
   "outputs": [],
   "source": [
    "mylist1.insert_at_start(10)\n",
    "mylist1.insert_at_last(20)\n",
    "mylist1.insert_at_start(20)\n",
    "mylist1.insert_at_start(21)"
   ]
  },
  {
   "cell_type": "code",
   "execution_count": 53,
   "metadata": {},
   "outputs": [
    {
     "name": "stdout",
     "output_type": "stream",
     "text": [
      "21 20 10 20 "
     ]
    }
   ],
   "source": [
    "for i in mylist1:\n",
    "     print(i, end=' ')"
   ]
  },
  {
   "cell_type": "markdown",
   "metadata": {},
   "source": [
    "# Doubly Linked List"
   ]
  },
  {
   "cell_type": "code",
   "execution_count": 54,
   "metadata": {},
   "outputs": [],
   "source": [
    "class dNode:\n",
    "     def __init__(self,item=None,previous=None,next=None):\n",
    "          self.item = item\n",
    "          self.previous = previous\n",
    "          self.next = next\n",
    "          \n",
    "class DLL:\n",
    "     def __init__(self,start = None):\n",
    "          self.start = start\n",
    "     \n",
    "     def is_empty(self):\n",
    "          return self.start == None\n",
    "     \n",
    "     def insert_at_start(self,data):\n",
    "          n = dNode(data,None,self.start)\n",
    "          if not self.is_empty():\n",
    "               self.start.previous = n\n",
    "          self.start = n\n",
    "          \n",
    "     def insert_at_last(self,data):\n",
    "          temp = self.start\n",
    "          if self.start is not None:\n",
    "               while temp.next is not None:\n",
    "                    temp = temp.next\n",
    "          \n",
    "          \n",
    "          n = dNode(data,temp,None)\n",
    "          if temp is None:\n",
    "               self.start = n\n",
    "          else:\n",
    "               temp.next = n\n",
    "               \n",
    "     def search(self,search_item):\n",
    "          temp = self.start\n",
    "          while temp is not None:\n",
    "               if temp.item == search_item:\n",
    "                    return temp\n",
    "                    break\n",
    "               temp = temp.next\n",
    "          return None\n",
    "     def insert_after(self,temp,data):\n",
    "          if temp is not None:\n",
    "               n = dNode(data,temp,temp.next)\n",
    "               if temp.next is not None:\n",
    "                    temp.next.prev = n\n",
    "               temp.next = n\n",
    "     def print_list(self):\n",
    "          temp = self.start\n",
    "          while temp is not None:\n",
    "               print(temp.item, end = \" \")\n",
    "               temp = temp.next\n",
    "     def delete_first(self):\n",
    "          if self.start is not None:\n",
    "               self.start = self.start.next\n",
    "               if self.start is not None:\n",
    "                    self.start.previous = None\n",
    "     def delete_last(self):\n",
    "          if self.start == None:\n",
    "               pass\n",
    "          elif self.start.next is None:\n",
    "               self.start = None\n",
    "          else:\n",
    "               temp = self.start\n",
    "               while temp.next is not None:\n",
    "                    temp = temp.next\n",
    "               temp.previous.next = None\n",
    "               \n",
    "     def delete_item(self,data):\n",
    "          if self.start is None:\n",
    "               pass\n",
    "          else:\n",
    "               temp = self.start\n",
    "               while temp is not None:\n",
    "                    if temp.item == data:\n",
    "                         if temp.next is not None:\n",
    "                              temp.next.previous = temp.previous\n",
    "                         if temp.previous is not None:\n",
    "                              temp.previous.next = temp.next\n",
    "                         else:\n",
    "                              self.start = temp.next\n",
    "                         break\n",
    "                    temp = temp.next\n",
    "     def __iter__(self):\n",
    "          return DLLIterator(self.start)\n",
    "                              \n",
    "class DLLIterator:\n",
    "             def __init__(self,start):\n",
    "                  self.current = start\n",
    "                  \n",
    "             def __iter__(self):\n",
    "                  return self\n",
    "             def __next__(self):\n",
    "                  if not self.current:\n",
    "                       raise StopIteration\n",
    "                  data = self.current.item\n",
    "                  self.current = self.current.next\n",
    "                  return data\n",
    "               \n",
    "          \n",
    "               \n",
    "          \n",
    "     \n",
    "          \n",
    "          "
   ]
  },
  {
   "cell_type": "code",
   "execution_count": 55,
   "metadata": {},
   "outputs": [],
   "source": [
    "mylist = DLL()"
   ]
  },
  {
   "cell_type": "code",
   "execution_count": 56,
   "metadata": {},
   "outputs": [],
   "source": [
    "mylist.insert_at_start(10)\n",
    "mylist.insert_at_last(50)\n",
    "mylist.insert_at_start(30)"
   ]
  },
  {
   "cell_type": "code",
   "execution_count": 58,
   "metadata": {},
   "outputs": [
    {
     "name": "stdout",
     "output_type": "stream",
     "text": [
      "30 10 50 "
     ]
    }
   ],
   "source": [
    "for i in mylist:\n",
    "     print(i, end=\" \")"
   ]
  },
  {
   "cell_type": "markdown",
   "metadata": {},
   "source": [
    "# Circular Linked List"
   ]
  },
  {
   "cell_type": "code",
   "execution_count": null,
   "metadata": {},
   "outputs": [],
   "source": [
    "class cNode:\n",
    "     def __init__(self,item = None,next = None):\n",
    "          self.item = item\n",
    "          self.next = next\n",
    "class CLL:\n",
    "     def __init__(self,last= None):\n",
    "          self.last = last\n",
    "          \n",
    "     def is_empty(self):\n",
    "          return self.last == None\n",
    "     def insert_at_start(self,data):\n",
    "          n = cNode(data)\n",
    "          if self.is_empty():\n",
    "               n.next = n\n",
    "               self.last = n\n",
    "          else:\n",
    "               n.next = self.last.next\n",
    "               self.last.next = n\n",
    "     def insert_at_last(self,data):\n",
    "          n = cNode(data)\n",
    "          if self.is_empty():\n",
    "               n.next = n\n",
    "               self.last.next = n\n",
    "               \n",
    "          else:\n",
    "               n.next = self.last.next\n",
    "               self.last.next = n\n",
    "               self.last = n\n",
    "     def search(self,search_item):\n",
    "          if self.is_empty():\n",
    "               return None\n",
    "          temp = self.last.next\n",
    "          while temp != self.last:\n",
    "               if temp.item == search_item:\n",
    "                    return temp\n",
    "               temp = temp.next\n",
    "          if temp.item == search_item:\n",
    "               return temp\n",
    "          return None\n",
    "     def insert_after(self,temp,data):\n",
    "          if temp is not None:\n",
    "               n = cNode(data,temp.next)\n",
    "               if temp==self.last:\n",
    "                    self.last = n\n",
    "     def print_list(self):\n",
    "          if not self.is_empty():\n",
    "               temp = self.last.next\n",
    "               while temp != self.last:\n",
    "                    print(temp.item, end=' ')\n",
    "                    temp = temp.next\n",
    "               print(temp.item,end=\" \")\n",
    "     def delete_first(self):\n",
    "          if not self.is_empty():\n",
    "               if self.last.next == self.last:\n",
    "                    self.last = None\n",
    "               else:\n",
    "                    self.last.next = self.last.next.next\n",
    "     def delete_last(self):\n",
    "          if not self.is_empty():\n",
    "               if self.last.next == None:\n",
    "                    self.last = None\n",
    "               else:\n",
    "                    temp = self.last.next\n",
    "                    while temp.next!=self.last:\n",
    "                         temp = temp.next\n",
    "                    temp.next = self.last.next\n",
    "                    self.last = temp          \n",
    "               \n",
    "               \n",
    "     "
   ]
  },
  {
   "cell_type": "markdown",
   "metadata": {},
   "source": [
    "# Stack"
   ]
  },
  {
   "cell_type": "code",
   "execution_count": 59,
   "metadata": {},
   "outputs": [],
   "source": [
    "class Stack:\n",
    "     def __init__(self):\n",
    "          self.items = []\n",
    "     def is_empty(self):\n",
    "          if len(self.items) == 0:\n",
    "               return True\n",
    "     def push(self,data):\n",
    "          self.items.append(data)\n",
    "     def pop(self):\n",
    "          if not self.is_empty():\n",
    "               return self.items.pop()\n",
    "          else:\n",
    "               raise IndexError(\"Stack is Empty\")\n",
    "     def peek(self):\n",
    "          if not self.is_empty():\n",
    "               return self.items[-1]\n",
    "          else:\n",
    "               raise IndexError('Stack is empty')\n",
    "     def size(self):\n",
    "          return len(self.items)\n",
    "               "
   ]
  },
  {
   "cell_type": "code",
   "execution_count": 60,
   "metadata": {},
   "outputs": [],
   "source": [
    "s1 = Stack()"
   ]
  },
  {
   "cell_type": "code",
   "execution_count": 61,
   "metadata": {},
   "outputs": [],
   "source": [
    "s1.push(10)\n",
    "s1.push(20)\n",
    "s1.push(45)"
   ]
  },
  {
   "cell_type": "code",
   "execution_count": 62,
   "metadata": {},
   "outputs": [
    {
     "name": "stdout",
     "output_type": "stream",
     "text": [
      "45\n"
     ]
    }
   ],
   "source": [
    "print(s1.peek())"
   ]
  },
  {
   "cell_type": "markdown",
   "metadata": {},
   "source": [
    "# Stack using inheriting list class"
   ]
  },
  {
   "cell_type": "code",
   "execution_count": 63,
   "metadata": {},
   "outputs": [],
   "source": [
    "class Stack(list):\n",
    "     def is_empty(self):\n",
    "          return len(self) == 0\n",
    "     def push(self,data):\n",
    "          self.append(data)\n",
    "     def pop(self):\n",
    "          if not self.is_empty():\n",
    "               return super().pop()\n",
    "          else:\n",
    "               raise IndexError('stack empty')\n",
    "     def peek(self):\n",
    "          if not self.is_empty():\n",
    "               return self[-1]\n",
    "          else:\n",
    "               raise IndexError('stack is empty')\n",
    "     def size(self):\n",
    "          print(len(self))\n",
    "     def insert(self,idx,data):\n",
    "          raise AttributeError('No insert function found')\n",
    "          \n",
    "\n",
    "     "
   ]
  },
  {
   "cell_type": "code",
   "execution_count": 64,
   "metadata": {},
   "outputs": [],
   "source": [
    "s1 = Stack()"
   ]
  },
  {
   "cell_type": "markdown",
   "metadata": {},
   "source": [
    "# stack using singly linked list"
   ]
  },
  {
   "cell_type": "code",
   "execution_count": null,
   "metadata": {},
   "outputs": [],
   "source": [
    "class Node:\n",
    "     def __init__(self,data= None, next = None):\n",
    "          self.data = data\n",
    "          self.next = next\n",
    "class Stack:\n",
    "     def __init__(self):\n",
    "          self.start = None\n",
    "          self.item_count = 0\n",
    "     def is_empty(self):\n",
    "          return self.start == None\n",
    "     def push(self,data):\n",
    "          n = Node(data,self.start)\n",
    "          self.start = n\n",
    "          self.item_count+=1\n",
    "     def pop(self):\n",
    "          if not self.is_empty():\n",
    "               data = self.start.data\n",
    "               self.start = self.start.next\n",
    "               self.item_count-=1\n",
    "               return data\n",
    "          else:\n",
    "               raise IndexError('stack is empty')\n",
    "     def peek(self):\n",
    "          if not self.is_empty():\n",
    "               data = self.start.data\n",
    "          else:\n",
    "               raise IndexError('stack is empty')\n",
    "     def size(self):\n",
    "          return self.item_count\n",
    "               \n",
    "               \n",
    "     \n",
    "     "
   ]
  },
  {
   "cell_type": "markdown",
   "metadata": {},
   "source": [
    "# Queue"
   ]
  },
  {
   "cell_type": "code",
   "execution_count": 1,
   "metadata": {},
   "outputs": [],
   "source": [
    "class Queue:\n",
    "     def __init__(self):\n",
    "          self.items = []\n",
    "     def is_empty(self):\n",
    "          return len(self.items) == 0\n",
    "     def enqueue(self,data):\n",
    "          self.items.append(data)\n",
    "     def dequeue(self):\n",
    "          if not self.is_empty():\n",
    "               self.items.pop(0)\n",
    "          else:\n",
    "               raise IndexError('Queue underflow')\n",
    "     def get_front(self):\n",
    "          if not self.is_empty():\n",
    "               return self.items[0]\n",
    "          else:\n",
    "               raise IndexError('Queue Underflow')\n",
    "     def get_rare(self):\n",
    "          if not self.is_empty():\n",
    "               return self.items[-1]\n",
    "          else:\n",
    "               raise IndexError('Queue Underflow')\n",
    "     def size(self):\n",
    "          return len(self.items)\n",
    "     "
   ]
  },
  {
   "cell_type": "code",
   "execution_count": 2,
   "metadata": {},
   "outputs": [],
   "source": [
    "q1 = Queue()"
   ]
  },
  {
   "cell_type": "code",
   "execution_count": 3,
   "metadata": {},
   "outputs": [
    {
     "ename": "IndexError",
     "evalue": "Queue Underflow",
     "output_type": "error",
     "traceback": [
      "\u001b[1;31m---------------------------------------------------------------------------\u001b[0m",
      "\u001b[1;31mIndexError\u001b[0m                                Traceback (most recent call last)",
      "Cell \u001b[1;32mIn[3], line 1\u001b[0m\n\u001b[1;32m----> 1\u001b[0m \u001b[43mq1\u001b[49m\u001b[38;5;241;43m.\u001b[39;49m\u001b[43mget_front\u001b[49m\u001b[43m(\u001b[49m\u001b[43m)\u001b[49m\n",
      "Cell \u001b[1;32mIn[1], line 17\u001b[0m, in \u001b[0;36mQueue.get_front\u001b[1;34m(self)\u001b[0m\n\u001b[0;32m     15\u001b[0m      \u001b[38;5;28;01mreturn\u001b[39;00m \u001b[38;5;28mself\u001b[39m\u001b[38;5;241m.\u001b[39mitems[\u001b[38;5;241m0\u001b[39m]\n\u001b[0;32m     16\u001b[0m \u001b[38;5;28;01melse\u001b[39;00m:\n\u001b[1;32m---> 17\u001b[0m      \u001b[38;5;28;01mraise\u001b[39;00m \u001b[38;5;167;01mIndexError\u001b[39;00m(\u001b[38;5;124m'\u001b[39m\u001b[38;5;124mQueue Underflow\u001b[39m\u001b[38;5;124m'\u001b[39m)\n",
      "\u001b[1;31mIndexError\u001b[0m: Queue Underflow"
     ]
    }
   ],
   "source": [
    "q1.get_front()"
   ]
  },
  {
   "cell_type": "code",
   "execution_count": 4,
   "metadata": {},
   "outputs": [],
   "source": [
    "q1.enqueue(12)\n",
    "q1.enqueue(14)\n",
    "q1.enqueue(16)\n",
    "q1.enqueue(18)\n",
    "q1.enqueue(20)"
   ]
  },
  {
   "cell_type": "code",
   "execution_count": 5,
   "metadata": {},
   "outputs": [
    {
     "data": {
      "text/plain": [
       "12"
      ]
     },
     "execution_count": 5,
     "metadata": {},
     "output_type": "execute_result"
    }
   ],
   "source": [
    "q1.get_front()"
   ]
  },
  {
   "cell_type": "code",
   "execution_count": 6,
   "metadata": {},
   "outputs": [
    {
     "data": {
      "text/plain": [
       "20"
      ]
     },
     "execution_count": 6,
     "metadata": {},
     "output_type": "execute_result"
    }
   ],
   "source": [
    "q1.get_rare()"
   ]
  },
  {
   "cell_type": "markdown",
   "metadata": {},
   "source": [
    "# Queue using linked list"
   ]
  },
  {
   "cell_type": "code",
   "execution_count": 1,
   "metadata": {},
   "outputs": [],
   "source": [
    "class Node:\n",
    "     def __init__(self,data = None,next = None):\n",
    "          self.data = data\n",
    "          self.next = next\n",
    "          \n",
    "\n",
    "\n",
    "\n",
    "class Queue:\n",
    "     def __init__(self):\n",
    "          self.front =  None\n",
    "          self.rare = None\n",
    "          self.item_count = 0\n",
    "     def is_empty(self):\n",
    "          if self.item_count==0:\n",
    "               return True\n",
    "          else:\n",
    "               return False\n",
    "     def enqueue(self,data):\n",
    "          n = Node(data)\n",
    "          if self.is_empty():\n",
    "               self.front = n\n",
    "               \n",
    "          else:\n",
    "               self.rare.next = n\n",
    "          self.rare = n\n",
    "          self.item_count+=1\n",
    "     def dequeue(self):\n",
    "          if self.is_empty():\n",
    "               raise IndexError('Empty Queue')\n",
    "          elif self.front == self.rare:\n",
    "               self.front = None\n",
    "               self.rare = None\n",
    "          else:\n",
    "               self.front = self.front.next\n",
    "          self.item_count-=1\n",
    "     def get_front(self):\n",
    "          if self.is_empty():\n",
    "               raise IndexError('Empty queue')\n",
    "          else:\n",
    "               return self.front.data\n",
    "     def get_rare(self):\n",
    "          if self.is_empty():\n",
    "               raise IndexError('Empty queue')\n",
    "          else:\n",
    "               return self.rare.data\n",
    "     def size(self):\n",
    "          return self.item_count\n",
    "     \n",
    "          \n",
    "          "
   ]
  },
  {
   "cell_type": "markdown",
   "metadata": {},
   "source": [
    "# Deque using list"
   ]
  },
  {
   "cell_type": "code",
   "execution_count": 2,
   "metadata": {},
   "outputs": [],
   "source": [
    "class deque:\n",
    "     def __init__(self):\n",
    "          self.items = []\n",
    "     def is_empty(self):\n",
    "          return len(self.items) == 0\n",
    "     def insert_front(self,data):\n",
    "          self.items.insert(0,data)\n",
    "     def insert_rear(self,data):\n",
    "          self.items.append(data)\n",
    "     def delete_front(self):\n",
    "          if not self.is_empty():\n",
    "               self.items.pop(0)\n",
    "          else:\n",
    "               raise IndexError('Empty deque')\n",
    "     def delete_rear(self):\n",
    "          if not self.is_empty():\n",
    "               self.items.pop()\n",
    "          else:\n",
    "               raise IndexError('Empty deque')\n",
    "     def get_front(self):\n",
    "          if not self.is_empty():\n",
    "               return self.items[0]\n",
    "          else:\n",
    "               raise IndexError('Empty deque')\n",
    "     def get_rear(self):\n",
    "          if not self.is_empty():\n",
    "               return self.items[-1]\n",
    "          else:\n",
    "               raise IndexError('Empty deque')\n",
    "     def size(self):\n",
    "          return len(self.items)\n",
    "               \n",
    "          "
   ]
  },
  {
   "cell_type": "markdown",
   "metadata": {},
   "source": [
    "# Deque using doubly linked list"
   ]
  },
  {
   "cell_type": "code",
   "execution_count": 2,
   "metadata": {},
   "outputs": [],
   "source": [
    "class Node:\n",
    "     def __init__(self,data = None, next = None,prev = None):\n",
    "          self.data = data\n",
    "          self.next = next\n",
    "          self.prev = prev\n",
    "          \n",
    "class Deque:\n",
    "     def __init__(self):\n",
    "          self.front = None\n",
    "          self.rear = None\n",
    "          self.item_count = 0\n",
    "     def is_empty(self):\n",
    "          return self.item_count == 0\n",
    "     def insert_front(self,data):\n",
    "          n = Node(data,self.front,None)\n",
    "          if self.is_empty():\n",
    "               self.rear = n\n",
    "          else:\n",
    "               self.front.prev = n\n",
    "          self.front = n\n",
    "          self.item_count+=1\n",
    "     def insert_rear(self,data):\n",
    "          n = Node(data,None,self.rear)\n",
    "          if self.is_empty():\n",
    "               self.front = n\n",
    "          else:\n",
    "               self.rear.next = n\n",
    "          self.rear = n\n",
    "          self.item_count+=1\n",
    "     def delete_front(self):\n",
    "          if self.is_empty():\n",
    "               raise IndexError('Empty deque')\n",
    "          elif self.front == self.rear:\n",
    "               self.front = None\n",
    "               self.rear = None\n",
    "          else:\n",
    "               self.front = self.front.next\n",
    "               self.front.prev = None\n",
    "          self.item_count-=1\n",
    "     def delete_rear(self):\n",
    "          if self.is_empty():\n",
    "               raise IndexError('Empty deque')\n",
    "          elif self.front == self.rear:\n",
    "               self.front = None\n",
    "               self.rear = None\n",
    "          else:\n",
    "               self.rear = self.rear.prev\n",
    "               self.rear.next = None\n",
    "          self.item_count-=1\n",
    "          \n",
    "     def get_front(self):\n",
    "          if self.is_empty():\n",
    "               raise IndexError('Empty deque')\n",
    "          else:\n",
    "               return self.front.data\n",
    "          \n",
    "     def get_rear(self):\n",
    "          if self.is_empty():\n",
    "               raise IndexError('Empty deque')\n",
    "          else:\n",
    "               return self.rear.data\n",
    "          \n",
    "     def size(self):\n",
    "          return self.item_count\n",
    "     \n",
    "     \n",
    "     \n",
    "          \n",
    "     \n",
    "               \n",
    "     \n"
   ]
  },
  {
   "cell_type": "markdown",
   "metadata": {},
   "source": [
    "# Priority queue using list"
   ]
  },
  {
   "cell_type": "code",
   "execution_count": 3,
   "metadata": {},
   "outputs": [],
   "source": [
    "class Pqueue:\n",
    "     def __init__(self):\n",
    "          self.items = []\n",
    "     def is_empty(self):\n",
    "          return len(self.items) == 0\n",
    "     def push(self,data,priority):\n",
    "          index = 0\n",
    "          while index<len(self.items) and self.items[index][1] <= priority:\n",
    "               index+=1\n",
    "          self.items.insert(index,(data,priority))\n",
    "     def pop(self):\n",
    "          if self.is_empty():\n",
    "               raise IndexError('Priority queue is empty')\n",
    "          else:\n",
    "               return self.items.pop(0)[0]\n",
    "     def size(self):\n",
    "          return len(self.items)\n",
    "          \n",
    "          \n",
    "          \n",
    "     "
   ]
  }
 ],
 "metadata": {
  "kernelspec": {
   "display_name": "base",
   "language": "python",
   "name": "python3"
  },
  "language_info": {
   "codemirror_mode": {
    "name": "ipython",
    "version": 3
   },
   "file_extension": ".py",
   "mimetype": "text/x-python",
   "name": "python",
   "nbconvert_exporter": "python",
   "pygments_lexer": "ipython3",
   "version": "3.10.9"
  }
 },
 "nbformat": 4,
 "nbformat_minor": 2
}
